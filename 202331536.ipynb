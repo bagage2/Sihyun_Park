{
  "cells": [
    {
      "cell_type": "code",
      "execution_count": 2,
      "metadata": {
        "colab": {
          "base_uri": "https://localhost:8080/"
        },
        "id": "Mb7oz5y5eSDz",
        "outputId": "18ce1471-2c17-4f4b-d72f-d69a7eecfeea"
      },
      "outputs": [
        {
          "output_type": "stream",
          "name": "stdout",
          "text": [
            "Collecting python-Levenshtein\n",
            "  Downloading python_Levenshtein-0.25.1-py3-none-any.whl (9.4 kB)\n",
            "Collecting Levenshtein==0.25.1 (from python-Levenshtein)\n",
            "  Downloading Levenshtein-0.25.1-cp310-cp310-manylinux_2_17_x86_64.manylinux2014_x86_64.whl (177 kB)\n",
            "\u001b[2K     \u001b[90m━━━━━━━━━━━━━━━━━━━━━━━━━━━━━━━━━━━━━━━━\u001b[0m \u001b[32m177.4/177.4 kB\u001b[0m \u001b[31m1.4 MB/s\u001b[0m eta \u001b[36m0:00:00\u001b[0m\n",
            "\u001b[?25hCollecting rapidfuzz<4.0.0,>=3.8.0 (from Levenshtein==0.25.1->python-Levenshtein)\n",
            "  Downloading rapidfuzz-3.9.3-cp310-cp310-manylinux_2_17_x86_64.manylinux2014_x86_64.whl (3.4 MB)\n",
            "\u001b[2K     \u001b[90m━━━━━━━━━━━━━━━━━━━━━━━━━━━━━━━━━━━━━━━━\u001b[0m \u001b[32m3.4/3.4 MB\u001b[0m \u001b[31m12.4 MB/s\u001b[0m eta \u001b[36m0:00:00\u001b[0m\n",
            "\u001b[?25hInstalling collected packages: rapidfuzz, Levenshtein, python-Levenshtein\n",
            "Successfully installed Levenshtein-0.25.1 python-Levenshtein-0.25.1 rapidfuzz-3.9.3\n"
          ]
        }
      ],
      "source": [
        "pip install python-Levenshtein"
      ]
    },
    {
      "cell_type": "code",
      "execution_count": null,
      "metadata": {
        "colab": {
          "base_uri": "https://localhost:8080/"
        },
        "id": "0V9i2zxeI_IF",
        "outputId": "557fe8dd-8720-4bde-fb35-dfed76252b23"
      },
      "outputs": [
        {
          "output_type": "stream",
          "name": "stdout",
          "text": [
            "You: 가끔 궁금해요\n",
            "Chatbot: 그 사람도 그럴 거예요.\n"
          ]
        }
      ],
      "source": [
        "import pandas as pd\n",
        "import Levenshtein\n",
        "import requests\n",
        "from io import StringIO\n",
        "\n",
        "# 레벤슈타인 거리를 이용\n",
        "class LevenshteinChatBot:\n",
        "    # 챗봇 객체를 초기화하는 메서드, 초기화 시에는 입력된 데이터 파일을 로드함\n",
        "    def __init__(self, url):\n",
        "        self.questions, self.answers = self.load_data(url)\n",
        "\n",
        "    # URL로부터 질문과 답변 데이터를 불러오는 메서드\n",
        "    def load_data(self, url):\n",
        "        response = requests.get(url)\n",
        "        response.raise_for_status()\n",
        "        csv_data = StringIO(response.text)\n",
        "        data = pd.read_csv(csv_data)\n",
        "        questions = data['Q'].tolist()\n",
        "        answers = data['A'].tolist()\n",
        "        return questions, answers\n",
        "\n",
        "    # 입력 문장에 가장 잘 맞는 답변을 찾는 메서드, 레벤슈타인 거리를 사용하여 가장 높은 유사도를 가 질문의 답변을 반환함\n",
        "    def find_best_answer(self, input_sentence):\n",
        "        # 모든 질문에 대해 레벤슈타인 거리를 계산\n",
        "        distances = [Levenshtein.distance(input_sentence, question) for question in self.questions]\n",
        "        # 가장 거리가 작은 질문의 인덱스를 찾음\n",
        "        best_match_index = distances.index(min(distances))\n",
        "        # 가장 유사한 질문에 해당하는 답변을 반환\n",
        "        return self.answers[best_match_index]\n",
        "\n",
        "# 데이터 파일의 경로를 지정합니다.\n",
        "url = 'https://raw.githubusercontent.com/CUKykkim/chatbot/master/ChatbotData.csv'\n",
        "\n",
        "# 챗봇 객체를 생성합니다.\n",
        "chatbot = LevenshteinChatBot(url)\n",
        "\n",
        "# '종료'라는 입력이 나올 때까지 사용자의 입력에 따라 챗봇의 응답을 출력하는 무한 루프를 실행합니다.\n",
        "while True:\n",
        "    input_sentence = input('You: ')\n",
        "    if input_sentence.lower() == '종료':\n",
        "        break\n",
        "    response = chatbot.find_best_answer(input_sentence)\n",
        "    print('Chatbot:', response)\n"
      ]
    }
  ],
  "metadata": {
    "colab": {
      "provenance": []
    },
    "kernelspec": {
      "display_name": "Python 3",
      "name": "python3"
    },
    "language_info": {
      "name": "python"
    }
  },
  "nbformat": 4,
  "nbformat_minor": 0
}